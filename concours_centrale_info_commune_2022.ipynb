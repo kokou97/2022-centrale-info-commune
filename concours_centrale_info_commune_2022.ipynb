{
 "cells": [
  {
   "cell_type": "code",
   "execution_count": 1,
   "id": "e650cf24",
   "metadata": {},
   "outputs": [
    {
     "data": {
      "text/plain": [
       "'Informatique commune Concours Centrale 2022'"
      ]
     },
     "execution_count": 1,
     "metadata": {},
     "output_type": "execute_result"
    }
   ],
   "source": [
    "'''Informatique commune Concours Centrale 2022'''"
   ]
  },
  {
   "cell_type": "code",
   "execution_count": 6,
   "id": "e2737b4b",
   "metadata": {},
   "outputs": [
    {
     "data": {
      "text/plain": [
       "16"
      ]
     },
     "execution_count": 6,
     "metadata": {},
     "output_type": "execute_result"
    }
   ],
   "source": [
    "#Q1\n",
    "circuit=[\"A\", \"G\", \"A\", \"G\", \"A\", \"D\", \"A\", \"G\", \"A\", \"G\", \"A\", \"A\", \"G\", \"A\"]\n",
    "\n",
    "def longueur1(c:[str], d:int) -> int:\n",
    "    counter=0;\n",
    "    for i in c:\n",
    "        if i==\"A\":\n",
    "            counter+=1\n",
    "    return d*counter\n",
    "\n",
    "longueur1(circuit, 2)"
   ]
  },
  {
   "cell_type": "code",
   "execution_count": 12,
   "id": "47f20927",
   "metadata": {},
   "outputs": [
    {
     "name": "stdout",
     "output_type": "stream",
     "text": [
      "['A', 'A', 'D', 'A']\n"
     ]
    },
    {
     "data": {
      "text/plain": [
       "' nbg représente le nombre de virage à gauche '"
      ]
     },
     "execution_count": 12,
     "metadata": {},
     "output_type": "execute_result"
    }
   ],
   "source": [
    "#Q2\n",
    "circuit=[\"A\", \"A\", \"G\", \"D\", \"G\", \"G\", \"G\", \"A\"]\n",
    "\n",
    "def representation_minimale(c:[str]) -> [str]:\n",
    "    virages = [[], [\"G\"], [\"G\", \"G\"], [\"D\"]]\n",
    "    nbg = 0\n",
    "    res = []\n",
    "    for e in c: \n",
    "        if e == \"A\":\n",
    "            res.extend(virages[nbg])\n",
    "            nbg = 0\n",
    "            res.append(\"A\")\n",
    "        elif e == \"G\":\n",
    "            nbg = (nbg + 1) % 4\n",
    "        else: \n",
    "            nbg = (nbg - 1) % 4\n",
    "    res.extend(virages[nbg])\n",
    "    return res\n",
    "\n",
    "print(representation_minimale(circuit));\n",
    "\"\"\" nbg représente le nombre de virage à gauche \"\"\""
   ]
  },
  {
   "cell_type": "code",
   "execution_count": 11,
   "id": "c389c2ec",
   "metadata": {},
   "outputs": [],
   "source": [
    "#Q3\n",
    "\"\"\"La fonction representation minimale a pour but de simplifier la représentation du circuit.\"\"\""
   ]
  },
  {
   "cell_type": "code",
   "execution_count": 47,
   "id": "e0482ffc",
   "metadata": {
    "scrolled": true
   },
   "outputs": [
    {
     "name": "stdout",
     "output_type": "stream",
     "text": [
      "circuit initiale :\n",
      "['A', 'G', 'D', 'G', 'A', 'D', 'A', 'G', 'A', 'G', 'A', 'A', 'G', 'A']\n",
      "circuit minimale :\n",
      "['A', 'G', 'A', 'D', 'A', 'G', 'A', 'G', 'A', 'A', 'G', 'A']\n"
     ]
    },
    {
     "data": {
      "text/plain": [
       "False"
      ]
     },
     "execution_count": 47,
     "metadata": {},
     "output_type": "execute_result"
    }
   ],
   "source": [
    "#Q4\n",
    "circuit1=[\"A\", \"G\", \"D\", \"G\", \"A\", \"D\", \"A\", \"G\", \"A\", \"G\", \"A\", \"A\", \"G\", \"A\"]\n",
    "\n",
    "def contient_demi_tour1(c:[str]) -> bool:\n",
    "    print(\"circuit initiale :\")\n",
    "    print(c)\n",
    "    c = representation_minimale(c)\n",
    "    print(\"circuit minimale :\")\n",
    "    print(c)\n",
    "    l = len (c)\n",
    "    res = False\n",
    "    for ii in range (0, l-1):\n",
    "        if (c[ii] != \"A\"):\n",
    "            if c[ii] == c[ii+1] : res = True; break   \n",
    "    if res : print (\"demi-tour à la position : \"+str(ii))\n",
    "    return res\n",
    "contient_demi_tour1(circuit1)"
   ]
  },
  {
   "cell_type": "code",
   "execution_count": 60,
   "id": "d900870e",
   "metadata": {},
   "outputs": [
    {
     "name": "stdout",
     "output_type": "stream",
     "text": [
      "[0, 0]\n",
      "True\n"
     ]
    },
    {
     "data": {
      "text/plain": [
       "'\\nif orientation == 0 :\\n    position[0]+=1\\nif orientation == 1 :\\n    position[1]+=1\\nif orientation == 2 :\\n    position[0]-=1\\nif orientation == 3 :\\n    position[1]-=1\\n'"
      ]
     },
     "execution_count": 60,
     "metadata": {},
     "output_type": "execute_result"
    }
   ],
   "source": [
    "#Q5\n",
    "circuit1=[\"A\", \"G\", \"A\", \"G\", \"A\", \"D\", \"A\", \"G\", \"A\", \"G\", \"A\", \"A\", \"G\", \"A\"]\n",
    "def est_ferme1(c:[str]):\n",
    "    c = representation_minimale(c)\n",
    "    orientation = 0\n",
    "    coord = [[0], [0]]\n",
    "    res= True\n",
    "    position = [0, 0]\n",
    "    for e in c:\n",
    "        if e == \"G\":\n",
    "            orientation = (orientation + 1) % 4 \n",
    "        if e == \"D\":\n",
    "            orientation = (orientation - 1) % 4\n",
    "        if e == \"A\":\n",
    "            position[orientation % 2] =  position[orientation % 2] + (-1)**(2 if orientation <= 1 else 1 )\n",
    "            coord[orientation % 2].append(position[orientation % 2])\n",
    "            coord[(orientation + 1) % 2].append(position[(1 + orientation) % 2])\n",
    "    print(position)\n",
    "    if (orientation == 0): \n",
    "        if (position == [0,0]):\n",
    "            return res\n",
    "        else:\n",
    "            res = False\n",
    "    else: \n",
    "        res = False\n",
    "    return res\n",
    "\n",
    "print(est_ferme1(circuit1))\n",
    "\n",
    "\n",
    "\n",
    "'''\n",
    "if orientation == 0 :\n",
    "    position[0]+=1\n",
    "if orientation == 1 :\n",
    "    position[1]+=1\n",
    "if orientation == 2 :\n",
    "    position[0]-=1\n",
    "if orientation == 3 :\n",
    "    position[1]-=1\n",
    "'''\n"
   ]
  },
  {
   "cell_type": "code",
   "execution_count": 93,
   "id": "e5905215",
   "metadata": {},
   "outputs": [
    {
     "name": "stdout",
     "output_type": "stream",
     "text": [
      "[[0, 1, 1, 0, 0, -1, -1, -1, 0], [0, 0, 1, 1, 2, 2, 1, 0, 0]]\n",
      "[[0, 0], [1, 0], [1, 1], [0, 1], [0, 2], [-1, 2], [-1, 1], [-1, 0], [0, 0]]\n",
      "circuit initiale :\n",
      "['A', 'G', 'A', 'G', 'A', 'D', 'A', 'G', 'A', 'G', 'A', 'A', 'G', 'A']\n",
      "circuit minimale :\n",
      "['A', 'G', 'A', 'G', 'A', 'D', 'A', 'G', 'A', 'G', 'A', 'A', 'G', 'A']\n",
      "[0, 0]\n"
     ]
    },
    {
     "data": {
      "text/plain": [
       "True"
      ]
     },
     "execution_count": 93,
     "metadata": {},
     "output_type": "execute_result"
    },
    {
     "data": {
      "image/png": "[encoded data removed]",
      "text/plain": [
       "<Figure size 432x288 with 1 Axes>"
      ]
     },
     "metadata": {
      "needs_background": "light"
     },
     "output_type": "display_data"
    }
   ],
   "source": [
    "#Q6\n",
    "#circuit1=[\"A\", \"G\", \"A\",\"A\", \"G\", \"A\", \"D\", \"A\", \"G\", \"A\", \"G\", \"A\", \"A\", \"A\", \"A\", \"G\", \"A\", \"A\", \"D\",\"A\", \"D\", \"A\", \"A\", \"D\", \"A\", \"A\", \"D\", \"A\"]\n",
    "circuit1=[\"A\", \"G\", \"A\", \"G\", \"A\", \"D\", \"A\", \"G\", \"A\", \"G\", \"A\", \"A\",\"G\", \"A\"]\n",
    "import matplotlib.pyplot as plt\n",
    "\n",
    "def coord_position (c:[str]):\n",
    "    c = representation_minimale(c)\n",
    "    orientation = 0\n",
    "    coord = [[0], [0]]\n",
    "    position = [0, 0]\n",
    "    ensemble_position = [[0,0]]\n",
    "    for e in c:\n",
    "        if e == \"G\":\n",
    "            orientation = (orientation + 1) % 4 \n",
    "        if e == \"D\":\n",
    "            orientation = (orientation - 1) % 4\n",
    "        if e == \"A\":\n",
    "            position[orientation % 2] =  position[orientation % 2] + (-1)**(2 if orientation <= 1 else 1 )\n",
    "            coord[orientation % 2].append(position[orientation % 2])\n",
    "            coord[(orientation + 1) % 2].append(position[(1 + orientation) % 2])\n",
    "            ensemble_position.append([position[0], position[1]])\n",
    "    return coord, ensemble_position\n",
    "    \n",
    "coord,  ensemble_position = coord_position(circuit1)\n",
    "print(coord)\n",
    "print(ensemble_position)\n",
    "plt.plot(coord[0], coord[1])\n",
    "\n",
    "\n",
    "def circuit_convenable1(c:[str]) -> bool :\n",
    "    res = True\n",
    "    if (not (contient_demi_tour1(c)) and est_ferme1(c)):\n",
    "        coord, ensemble_position = coord_position(c)\n",
    "        new_ensemble_position = ensemble_position[:-1]\n",
    "        l = len(new_ensemble_position)\n",
    "        for ii in range (0, l):\n",
    "            for jj in  range(0, l) :\n",
    "                if not (jj == ii) :\n",
    "                    if (new_ensemble_position[ii] == new_ensemble_position[jj]): res = False   \n",
    "    else: res = False\n",
    "    return res\n",
    "\n",
    "circuit_convenable1(circuit1)"
   ]
  },
  {
   "cell_type": "code",
   "execution_count": 5,
   "id": "417cddea",
   "metadata": {},
   "outputs": [],
   "source": [
    "#Q7 \n",
    "import turtle\n",
    "\n",
    "circuit1=[\"A\", \"G\", \"A\", \"G\", \"A\", \"D\", \"A\", \"G\", \"A\", \"G\", \"A\", \"A\",\"G\", \"A\"]\n",
    "def dessine_circuit1(c:[str], d:int) -> None :\n",
    "    for e in c :\n",
    "        if e == \"A\":\n",
    "            turtle.forward(d)\n",
    "        elif e == \"G\":\n",
    "            turtle.left(90)\n",
    "        elif e == \"D\":\n",
    "            turtle.right(90)\n",
    "    turtle.done()\n",
    "dessine_circuit1(circuit1, 100)"
   ]
  },
  {
   "cell_type": "code",
   "execution_count": 4,
   "id": "38a767b2",
   "metadata": {},
   "outputs": [],
   "source": []
  },
  {
   "cell_type": "code",
   "execution_count": null,
   "id": "c2d5473c",
   "metadata": {},
   "outputs": [],
   "source": []
  }
 ],
 "metadata": {
  "kernelspec": {
   "display_name": "Python 3 (ipykernel)",
   "language": "python",
   "name": "python3"
  },
  "language_info": {
   "codemirror_mode": {
    "name": "ipython",
    "version": 3
   },
   "file_extension": ".py",
   "mimetype": "text/x-python",
   "name": "python",
   "nbconvert_exporter": "python",
   "pygments_lexer": "ipython3",
   "version": "3.9.7"
  }
 },
 "nbformat": 4,
 "nbformat_minor": 5
}
